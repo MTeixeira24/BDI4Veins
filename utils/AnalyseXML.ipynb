{
 "cells": [
  {
   "cell_type": "code",
   "execution_count": 1,
   "metadata": {},
   "outputs": [],
   "source": [
    "import xml.etree.ElementTree as ET"
   ]
  },
  {
   "cell_type": "code",
   "execution_count": 2,
   "metadata": {},
   "outputs": [],
   "source": [
    "tree = ET.parse('mergedResults.xml')"
   ]
  },
  {
   "cell_type": "code",
   "execution_count": 4,
   "metadata": {},
   "outputs": [],
   "source": [
    "root = tree.getroot()"
   ]
  },
  {
   "cell_type": "code",
   "execution_count": 5,
   "metadata": {},
   "outputs": [
    {
     "data": {
      "text/plain": [
       "'Results'"
      ]
     },
     "execution_count": 5,
     "metadata": {},
     "output_type": "execute_result"
    }
   ],
   "source": [
    "root.tag"
   ]
  },
  {
   "cell_type": "code",
   "execution_count": 80,
   "metadata": {},
   "outputs": [
    {
     "name": "stdout",
     "output_type": "stream",
     "text": [
      "4,\n",
      "1.25\n",
      "5,\n",
      "3.0\n",
      "6,\n",
      "5.0\n",
      "7,\n",
      "7.142857142857142\n",
      "8,\n",
      "5.0\n"
     ]
    }
   ],
   "source": [
    "for child in root:\n",
    "    if(child[1].text == \"Borda\" and child[0].text == \"Unstable\"):\n",
    "        print (child[2].text + \",\")\n",
    "        values = []\n",
    "        diff = 0\n",
    "        totalAgents = 0\n",
    "        exits = 0\n",
    "        for iter in range(3, 3+20):\n",
    "            for x in range(4, 4 + int(child[2].text)):\n",
    "                totalAgents = totalAgents + 1\n",
    "                diff = float(child[iter][x][2].text)-float(child[iter][x][1].text)\n",
    "                values.append( diff )\n",
    "                if float(child[iter][x][2].text) < 0.8:\n",
    "                    exits = exits + 1\n",
    "        #print(sum(values)/len(values))\n",
    "        print(str((exits/totalAgents)*100))\n",
    "#print(str(totalAgents) + \" \" + str(exits))"
   ]
  },
  {
   "cell_type": "code",
   "execution_count": 79,
   "metadata": {},
   "outputs": [
    {
     "name": "stdout",
     "output_type": "stream",
     "text": [
      "4,\n",
      "0.0\n",
      "5,\n",
      "0.0\n",
      "6,\n",
      "0.0\n",
      "7,\n",
      "0.0\n",
      "8,\n",
      "0.0\n"
     ]
    }
   ],
   "source": [
    "for child in root:\n",
    "    if(child[1].text == \"Approval\" and child[0].text == \"Unstable\"):\n",
    "        print (child[2].text + \",\")\n",
    "        values = []\n",
    "        diff = 0\n",
    "        totalAgents = 0\n",
    "        exits = 0\n",
    "        for iter in range(3, 3+20):\n",
    "            for x in range(4, 4 + int(child[2].text)):\n",
    "                totalAgents = totalAgents + 1\n",
    "                diff = float(child[iter][x][2].text)-float(child[iter][x][1].text)\n",
    "                values.append( diff )\n",
    "                if float(child[iter][x][2].text) < 0.8:\n",
    "                    exits = exits + 1\n",
    "        #print(sum(values)/len(values))\n",
    "        print(str((exits/totalAgents)*100))\n",
    "#print(str(totalAgents) + \" \" + str(exits))"
   ]
  },
  {
   "cell_type": "code",
   "execution_count": 78,
   "metadata": {},
   "outputs": [
    {
     "name": "stdout",
     "output_type": "stream",
     "text": [
      "4,\n",
      "11.25\n",
      "5,\n",
      "6.0\n",
      "6,\n",
      "10.0\n",
      "7,\n",
      "15.714285714285714\n",
      "8,\n",
      "13.125\n"
     ]
    }
   ],
   "source": [
    "for child in root:\n",
    "    if(child[1].text == \"Plurality\" and child[0].text == \"Unstable\"):\n",
    "        print (child[2].text + \",\")\n",
    "        values = []\n",
    "        diff = 0\n",
    "        totalAgents = 0\n",
    "        exits = 0\n",
    "        for iter in range(3, 3+20):\n",
    "            for x in range(4, 4 + int(child[2].text)):\n",
    "                totalAgents = totalAgents + 1\n",
    "                diff = float(child[iter][x][2].text)-float(child[iter][x][1].text)\n",
    "                values.append( diff )\n",
    "                if float(child[iter][x][2].text) < 0.8:\n",
    "                    exits = exits + 1\n",
    "        #print(sum(values)/len(values))\n",
    "        print(str((exits/totalAgents)*100))\n",
    "#print(str(totalAgents) + \" \" + str(exits))"
   ]
  },
  {
   "cell_type": "code",
   "execution_count": 77,
   "metadata": {},
   "outputs": [
    {
     "name": "stdout",
     "output_type": "stream",
     "text": [
      "4,\n",
      "1.25\n",
      "5,\n",
      "3.0\n",
      "6,\n",
      "4.166666666666666\n",
      "7,\n",
      "2.857142857142857\n",
      "8,\n",
      "3.125\n"
     ]
    }
   ],
   "source": [
    "for child in root:\n",
    "    if(child[1].text == \"Copeland\" and child[0].text == \"Unstable\"):\n",
    "        print (child[2].text + \",\")\n",
    "        values = []\n",
    "        diff = 0\n",
    "        totalAgents = 0\n",
    "        exits = 0\n",
    "        for iter in range(3, 3+20):\n",
    "            for x in range(4, 4 + int(child[2].text)):\n",
    "                totalAgents = totalAgents + 1\n",
    "                diff = float(child[iter][x][2].text)-float(child[iter][x][1].text)\n",
    "                values.append( diff )\n",
    "                if float(child[iter][x][2].text) < 0.8:\n",
    "                    exits = exits + 1\n",
    "        #print(sum(values)/len(values))\n",
    "        print(str((exits/totalAgents)*100))\n",
    "#print(str(totalAgents) + \" \" + str(exits))"
   ]
  },
  {
   "cell_type": "code",
   "execution_count": 76,
   "metadata": {},
   "outputs": [
    {
     "name": "stdout",
     "output_type": "stream",
     "text": [
      "4,\n",
      "0.0\n",
      "5,\n",
      "0.0\n",
      "6,\n",
      "0.0\n",
      "7,\n",
      "0.0\n",
      "8,\n",
      "0.0\n"
     ]
    }
   ],
   "source": [
    "for child in root:\n",
    "    if(child[1].text == \"Borda\" and child[0].text == \"Stable\"):\n",
    "        print (child[2].text + \",\")\n",
    "        values = []\n",
    "        diff = 0\n",
    "        totalAgents = 0\n",
    "        exits = 0\n",
    "        for iter in range(3, 3+20):\n",
    "            for x in range(4, 4 + int(child[2].text)):\n",
    "                totalAgents = totalAgents + 1\n",
    "                diff = float(child[iter][x][2].text)-float(child[iter][x][1].text)\n",
    "                values.append( diff )\n",
    "                if float(child[iter][x][2].text) < 0.8:\n",
    "                    exits = exits + 1\n",
    "        #print(sum(values)/len(values))\n",
    "        print(str((exits/totalAgents)*100))\n",
    "#print(str(totalAgents) + \" \" + str(exits))"
   ]
  },
  {
   "cell_type": "code",
   "execution_count": 75,
   "metadata": {},
   "outputs": [
    {
     "name": "stdout",
     "output_type": "stream",
     "text": [
      "4,\n",
      "0.0\n",
      "5,\n",
      "0.0\n",
      "6,\n",
      "0.0\n",
      "7,\n",
      "0.0\n",
      "8,\n",
      "0.0\n"
     ]
    }
   ],
   "source": [
    "for child in root:\n",
    "    if(child[1].text == \"Approval\" and child[0].text == \"Stable\"):\n",
    "        print (child[2].text + \",\")\n",
    "        values = []\n",
    "        diff = 0\n",
    "        totalAgents = 0\n",
    "        exits = 0\n",
    "        for iter in range(3, 3+20):\n",
    "            for x in range(4, 4 + int(child[2].text)):\n",
    "                totalAgents = totalAgents + 1\n",
    "                diff = float(child[iter][x][2].text)-float(child[iter][x][1].text)\n",
    "                values.append( diff )\n",
    "                if float(child[iter][x][2].text) < 0.8:\n",
    "                    exits = exits + 1\n",
    "        #print(sum(values)/len(values))\n",
    "        print(str((exits/totalAgents)*100))\n",
    "#print(str(totalAgents) + \" \" + str(exits))"
   ]
  },
  {
   "cell_type": "code",
   "execution_count": 74,
   "metadata": {},
   "outputs": [
    {
     "name": "stdout",
     "output_type": "stream",
     "text": [
      "4,\n",
      "5.0\n",
      "5,\n",
      "2.0\n",
      "6,\n",
      "1.6666666666666667\n",
      "7,\n",
      "2.857142857142857\n",
      "8,\n",
      "6.25\n"
     ]
    }
   ],
   "source": [
    "for child in root:\n",
    "    if(child[1].text == \"Plurality\" and child[0].text == \"Stable\"):\n",
    "        print (child[2].text + \",\")\n",
    "        values = []\n",
    "        diff = 0\n",
    "        totalAgents = 0\n",
    "        exits = 0\n",
    "        for iter in range(3, 3+20):\n",
    "            for x in range(4, 4 + int(child[2].text)):\n",
    "                totalAgents = totalAgents + 1\n",
    "                diff = float(child[iter][x][2].text)-float(child[iter][x][1].text)\n",
    "                values.append( diff )\n",
    "                if float(child[iter][x][2].text) < 0.8:\n",
    "                    exits = exits + 1\n",
    "        #print(sum(values)/len(values))\n",
    "        print(str((exits/totalAgents)*100))\n",
    "#print(str(totalAgents) + \" \" + str(exits))"
   ]
  },
  {
   "cell_type": "code",
   "execution_count": 73,
   "metadata": {},
   "outputs": [
    {
     "name": "stdout",
     "output_type": "stream",
     "text": [
      "4,\n",
      "0.0\n",
      "5,\n",
      "0.0\n",
      "6,\n",
      "0.0\n",
      "7,\n",
      "0.0\n",
      "8,\n",
      "0.0\n"
     ]
    }
   ],
   "source": [
    "for child in root:\n",
    "    if(child[1].text == \"Copeland\" and child[0].text == \"Stable\"):\n",
    "        print (child[2].text + \",\")\n",
    "        values = []\n",
    "        diff = 0\n",
    "        totalAgents = 0\n",
    "        exits = 0\n",
    "        for iter in range(3, 3+20):\n",
    "            for x in range(4, 4 + int(child[2].text)):\n",
    "                totalAgents = totalAgents + 1\n",
    "                diff = float(child[iter][x][2].text)-float(child[iter][x][1].text)\n",
    "                values.append( diff )\n",
    "                if float(child[iter][x][2].text) < 0.8:\n",
    "                    exits = exits + 1\n",
    "        #print(sum(values)/len(values))\n",
    "        print(str((exits/totalAgents)*100))\n",
    "#print(str(totalAgents) + \" \" + str(exits))"
   ]
  },
  {
   "cell_type": "code",
   "execution_count": 85,
   "metadata": {},
   "outputs": [],
   "source": [
    "f = open(\"utilities.csv\", \"w\")\n",
    "f.write(\"Scenario,Rule,PlatoonSize,Iteration,Agent,InitialUtility,FinalUtility,Difference\\n\")\n",
    "for child in root:\n",
    "    values = []\n",
    "    diff = 0\n",
    "    for iter in range(3, 3+20):\n",
    "        for x in range(4, 4 + int(child[2].text)):\n",
    "            diff = float(child[iter][x][2].text)-float(child[iter][x][1].text)\n",
    "            f.write(child[0].text+','+child[1].text+','+child[2].text+','+str(iter)+','+child[iter][x][0].text+','+child[iter][x][1].text+','+child[iter][x][2].text+','+str(diff)+'\\n')"
   ]
  },
  {
   "cell_type": "code",
   "execution_count": null,
   "metadata": {},
   "outputs": [],
   "source": []
  },
  {
   "cell_type": "code",
   "execution_count": null,
   "metadata": {},
   "outputs": [],
   "source": []
  },
  {
   "cell_type": "code",
   "execution_count": null,
   "metadata": {},
   "outputs": [],
   "source": []
  },
  {
   "cell_type": "code",
   "execution_count": null,
   "metadata": {},
   "outputs": [],
   "source": []
  },
  {
   "cell_type": "code",
   "execution_count": null,
   "metadata": {},
   "outputs": [],
   "source": []
  },
  {
   "cell_type": "code",
   "execution_count": null,
   "metadata": {},
   "outputs": [],
   "source": []
  },
  {
   "cell_type": "code",
   "execution_count": null,
   "metadata": {},
   "outputs": [],
   "source": []
  }
 ],
 "metadata": {
  "kernelspec": {
   "display_name": "Python 3",
   "language": "python",
   "name": "python3"
  },
  "language_info": {
   "codemirror_mode": {
    "name": "ipython",
    "version": 3
   },
   "file_extension": ".py",
   "mimetype": "text/x-python",
   "name": "python",
   "nbconvert_exporter": "python",
   "pygments_lexer": "ipython3",
   "version": "3.7.0"
  }
 },
 "nbformat": 4,
 "nbformat_minor": 2
}
