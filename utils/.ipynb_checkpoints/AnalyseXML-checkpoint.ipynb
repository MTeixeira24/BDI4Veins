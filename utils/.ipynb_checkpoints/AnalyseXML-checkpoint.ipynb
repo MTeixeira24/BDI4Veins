{
 "cells": [
  {
   "cell_type": "code",
   "execution_count": 1,
   "metadata": {},
   "outputs": [],
   "source": [
    "import xml.etree.ElementTree as ET"
   ]
  },
  {
   "cell_type": "code",
   "execution_count": 2,
   "metadata": {},
   "outputs": [],
   "source": [
    "tree = ET.parse('mergedResults.xml')"
   ]
  },
  {
   "cell_type": "code",
   "execution_count": 4,
   "metadata": {},
   "outputs": [],
   "source": [
    "root = tree.getroot()"
   ]
  },
  {
   "cell_type": "code",
   "execution_count": 5,
   "metadata": {},
   "outputs": [
    {
     "data": {
      "text/plain": [
       "'Results'"
      ]
     },
     "execution_count": 5,
     "metadata": {},
     "output_type": "execute_result"
    }
   ],
   "source": [
    "root.tag"
   ]
  },
  {
   "cell_type": "code",
   "execution_count": 69,
   "metadata": {},
   "outputs": [
    {
     "name": "stdout",
     "output_type": "stream",
     "text": [
      "4\n",
      "0.016102175866474333\n",
      "5\n",
      "0.0015594381366875432\n",
      "6\n",
      "-0.01054908987781167\n",
      "7\n",
      "-0.013956159724625291\n",
      "8\n",
      "-0.004097284611597125\n",
      "600 28\n",
      "4.666666666666667\n"
     ]
    }
   ],
   "source": [
    "for child in root:\n",
    "    if(child[1].text == \"Borda\" and child[0].text == \"Unstable\"):\n",
    "        print (child[2].text)\n",
    "        values = []\n",
    "        diff = 0\n",
    "        totalAgents = 0\n",
    "        exits = 0\n",
    "        for iter in range(3, 3+20):\n",
    "            for x in range(4, 4 + int(child[2].text)):\n",
    "                totalAgents = totalAgents + 1\n",
    "                diff = float(child[iter][x][2].text)-float(child[iter][x][1].text)\n",
    "                values.append( diff )\n",
    "                if float(child[iter][x][2].text) < 0.8:\n",
    "                    exits = exits + 1\n",
    "        #print(sum(values)/len(values))\n",
    "        print(str((exits/totalAgents)*100))\n",
    "#print(str(totalAgents) + \" \" + str(exits))"
   ]
  },
  {
   "cell_type": "code",
   "execution_count": 66,
   "metadata": {},
   "outputs": [
    {
     "name": "stdout",
     "output_type": "stream",
     "text": [
      "4\n",
      "0.0020975488052328616\n",
      "5\n",
      "-0.010679878581468471\n",
      "6\n",
      "-0.0014901765728125016\n",
      "7\n",
      "-0.011275863088355929\n",
      "8\n",
      "-0.004369988657500461\n",
      "600 0\n"
     ]
    }
   ],
   "source": [
    "totalAgents = 0\n",
    "exits = 0\n",
    "for child in root:\n",
    "    if(child[1].text == \"Approval\" and child[0].text == \"Unstable\"):\n",
    "        print (child[2].text)\n",
    "        values = []\n",
    "        diff = 0\n",
    "        for iter in range(3, 3+20):\n",
    "            for x in range(4, 4 + int(child[2].text)):\n",
    "                totalAgents = totalAgents + 1\n",
    "                diff = float(child[iter][x][2].text)-float(child[iter][x][1].text)\n",
    "                values.append( diff )\n",
    "                if float(child[iter][x][2].text) < 0.8:\n",
    "                    exits = exits + 1\n",
    "        print(sum(values)/len(values))\n",
    "print(str(totalAgents) + \" \" + str(exits))"
   ]
  },
  {
   "cell_type": "code",
   "execution_count": 65,
   "metadata": {},
   "outputs": [
    {
     "name": "stdout",
     "output_type": "stream",
     "text": [
      "4\n",
      "-0.030616127429180358\n",
      "5\n",
      "-0.012184970281304669\n",
      "6\n",
      "-0.03326470326610562\n",
      "7\n",
      "-0.06565374617469318\n",
      "8\n",
      "-0.054131720693169696\n",
      "600 70\n"
     ]
    }
   ],
   "source": [
    "totalAgents = 0\n",
    "exits = 0\n",
    "for child in root:\n",
    "    if(child[1].text == \"Plurality\" and child[0].text == \"Unstable\"):\n",
    "        print (child[2].text)\n",
    "        values = []\n",
    "        diff = 0\n",
    "        for iter in range(3, 3+20):\n",
    "            for x in range(4, 4 + int(child[2].text)):\n",
    "                totalAgents = totalAgents + 1\n",
    "                diff = float(child[iter][x][2].text)-float(child[iter][x][1].text)\n",
    "                values.append( diff )\n",
    "                if float(child[iter][x][2].text) < 0.8:\n",
    "                    exits = exits + 1\n",
    "        print(sum(values)/len(values))\n",
    "print(str(totalAgents) + \" \" + str(exits))"
   ]
  },
  {
   "cell_type": "code",
   "execution_count": 64,
   "metadata": {},
   "outputs": [
    {
     "name": "stdout",
     "output_type": "stream",
     "text": [
      "4\n",
      "0.01839323587014164\n",
      "5\n",
      "0.002893534079293484\n",
      "6\n",
      "0.0023141115224815665\n",
      "7\n",
      "-0.0026558908505234305\n",
      "8\n",
      "0.001719833351121408\n",
      "600 18\n"
     ]
    }
   ],
   "source": [
    "totalAgents = 0\n",
    "exits = 0\n",
    "for child in root:\n",
    "    if(child[1].text == \"Copeland\" and child[0].text == \"Unstable\"):\n",
    "        print (child[2].text)\n",
    "        values = []\n",
    "        diff = 0\n",
    "        for iter in range(3, 3+20):\n",
    "            for x in range(4, 4 + int(child[2].text)):\n",
    "                totalAgents = totalAgents + 1\n",
    "                diff = float(child[iter][x][2].text)-float(child[iter][x][1].text)\n",
    "                values.append( diff )\n",
    "                if float(child[iter][x][2].text) < 0.8:\n",
    "                    exits = exits + 1\n",
    "        print(sum(values)/len(values))\n",
    "print(str(totalAgents) + \" \" + str(exits))"
   ]
  },
  {
   "cell_type": "code",
   "execution_count": 63,
   "metadata": {},
   "outputs": [
    {
     "name": "stdout",
     "output_type": "stream",
     "text": [
      "4\n",
      "-0.00026158614193386165\n",
      "5\n",
      "0.002283286414192921\n",
      "6\n",
      "0.0004199340808444224\n",
      "7\n",
      "-0.0011647703702895853\n",
      "8\n",
      "-0.002515149376867825\n",
      "600 0\n"
     ]
    }
   ],
   "source": [
    "totalAgents = 0\n",
    "exits = 0\n",
    "for child in root:\n",
    "    if(child[1].text == \"Borda\" and child[0].text == \"Stable\"):\n",
    "        print (child[2].text)\n",
    "        values = []\n",
    "        diff = 0\n",
    "        for iter in range(3, 3+20):\n",
    "            for x in range(4, 4 + int(child[2].text)):\n",
    "                totalAgents = totalAgents + 1\n",
    "                diff = float(child[iter][x][2].text)-float(child[iter][x][1].text)\n",
    "                values.append( diff )\n",
    "                if float(child[iter][x][2].text) < 0.8:\n",
    "                    exits = exits + 1\n",
    "        print(sum(values)/len(values))\n",
    "print(str(totalAgents) + \" \" + str(exits))"
   ]
  },
  {
   "cell_type": "code",
   "execution_count": 62,
   "metadata": {},
   "outputs": [
    {
     "name": "stdout",
     "output_type": "stream",
     "text": [
      "4\n",
      "-0.054874824320761975\n",
      "5\n",
      "-0.04722477848063802\n",
      "6\n",
      "-0.046099655515330636\n",
      "7\n",
      "-0.04417100307650811\n",
      "8\n",
      "-0.020055882903430917\n",
      "600 0\n"
     ]
    }
   ],
   "source": [
    "totalAgents = 0\n",
    "exits = 0\n",
    "for child in root:\n",
    "    if(child[1].text == \"Approval\" and child[0].text == \"Stable\"):\n",
    "        print (child[2].text)\n",
    "        values = []\n",
    "        diff = 0\n",
    "        for iter in range(3, 3+20):\n",
    "            for x in range(4, 4 + int(child[2].text)):\n",
    "                totalAgents = totalAgents + 1\n",
    "                diff = float(child[iter][x][2].text)-float(child[iter][x][1].text)\n",
    "                values.append( diff )\n",
    "                if float(child[iter][x][2].text) < 0.8:\n",
    "                    exits = exits + 1\n",
    "        print(sum(values)/len(values))\n",
    "print(str(totalAgents) + \" \" + str(exits))"
   ]
  },
  {
   "cell_type": "code",
   "execution_count": 61,
   "metadata": {},
   "outputs": [
    {
     "name": "stdout",
     "output_type": "stream",
     "text": [
      "4\n",
      "-0.033151983463486856\n",
      "5\n",
      "-0.014049327627162524\n",
      "6\n",
      "-0.02606256024034962\n",
      "7\n",
      "-0.02365713041907033\n",
      "8\n",
      "-0.03843699094544355\n",
      "600 22\n"
     ]
    }
   ],
   "source": [
    "totalAgents = 0\n",
    "exits = 0\n",
    "for child in root:\n",
    "    if(child[1].text == \"Plurality\" and child[0].text == \"Stable\"):\n",
    "        print (child[2].text)\n",
    "        values = []\n",
    "        diff = 0\n",
    "        for iter in range(3, 3+20):\n",
    "            for x in range(4, 4 + int(child[2].text)):\n",
    "                totalAgents = totalAgents + 1\n",
    "                diff = float(child[iter][x][2].text)-float(child[iter][x][1].text)\n",
    "                values.append( diff )\n",
    "                if float(child[iter][x][2].text) < 0.8:\n",
    "                    exits = exits + 1\n",
    "        print(sum(values)/len(values))\n",
    "print(str(totalAgents) + \" \" + str(exits))"
   ]
  },
  {
   "cell_type": "code",
   "execution_count": 60,
   "metadata": {},
   "outputs": [
    {
     "name": "stdout",
     "output_type": "stream",
     "text": [
      "4\n",
      "-0.0005348864137610432\n",
      "5\n",
      "-0.0037218596770455382\n",
      "6\n",
      "-0.0016239694720740967\n",
      "7\n",
      "-0.0016737359972168432\n",
      "8\n",
      "-2.7074052219425854e-05\n",
      "600 0\n"
     ]
    }
   ],
   "source": [
    "totalAgents = 0\n",
    "exits = 0\n",
    "for child in root:\n",
    "    if(child[1].text == \"Copeland\" and child[0].text == \"Stable\"):\n",
    "        print (child[2].text)\n",
    "        values = []\n",
    "        diff = 0\n",
    "        for iter in range(3, 3+20):\n",
    "            for x in range(4, 4 + int(child[2].text)):\n",
    "                totalAgents = totalAgents + 1\n",
    "                diff = float(child[iter][x][2].text)-float(child[iter][x][1].text)\n",
    "                values.append( diff )\n",
    "                if float(child[iter][x][2].text) < 0.8:\n",
    "                    exits = exits + 1\n",
    "        print(sum(values)/len(values))\n",
    "print(str(totalAgents) + \" \" + str(exits))"
   ]
  },
  {
   "cell_type": "code",
   "execution_count": null,
   "metadata": {},
   "outputs": [],
   "source": []
  },
  {
   "cell_type": "code",
   "execution_count": null,
   "metadata": {},
   "outputs": [],
   "source": []
  },
  {
   "cell_type": "code",
   "execution_count": null,
   "metadata": {},
   "outputs": [],
   "source": []
  },
  {
   "cell_type": "code",
   "execution_count": null,
   "metadata": {},
   "outputs": [],
   "source": []
  },
  {
   "cell_type": "code",
   "execution_count": null,
   "metadata": {},
   "outputs": [],
   "source": []
  },
  {
   "cell_type": "code",
   "execution_count": null,
   "metadata": {},
   "outputs": [],
   "source": []
  },
  {
   "cell_type": "code",
   "execution_count": null,
   "metadata": {},
   "outputs": [],
   "source": []
  },
  {
   "cell_type": "code",
   "execution_count": null,
   "metadata": {},
   "outputs": [],
   "source": []
  }
 ],
 "metadata": {
  "kernelspec": {
   "display_name": "Python 3",
   "language": "python",
   "name": "python3"
  },
  "language_info": {
   "codemirror_mode": {
    "name": "ipython",
    "version": 3
   },
   "file_extension": ".py",
   "mimetype": "text/x-python",
   "name": "python",
   "nbconvert_exporter": "python",
   "pygments_lexer": "ipython3",
   "version": "3.7.0"
  }
 },
 "nbformat": 4,
 "nbformat_minor": 2
}
